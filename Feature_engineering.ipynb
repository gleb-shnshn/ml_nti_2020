{
 "cells": [
  {
   "cell_type": "code",
   "execution_count": 1,
   "metadata": {},
   "outputs": [],
   "source": [
    "import pandas as pd\n",
    "import numpy as np"
   ]
  },
  {
   "cell_type": "markdown",
   "metadata": {},
   "source": [
    "# Читаем данные"
   ]
  },
  {
   "cell_type": "code",
   "execution_count": 2,
   "metadata": {},
   "outputs": [],
   "source": [
    "X_train_in = pd.read_csv(\"X_train.csv\", index_col=0)\n",
    "y_train_in = pd.read_csv(\"y_train.csv\",index_col=0)\n",
    "X_val = pd.read_csv(\"X_test.csv\", index_col=0)\n",
    "info = pd.read_csv(\"studs_info.csv\").drop_duplicates(subset=[\"STD_ID\"])"
   ]
  },
  {
   "cell_type": "code",
   "execution_count": 3,
   "metadata": {},
   "outputs": [
    {
     "data": {
      "text/html": [
       "<div>\n",
       "<style scoped>\n",
       "    .dataframe tbody tr th:only-of-type {\n",
       "        vertical-align: middle;\n",
       "    }\n",
       "\n",
       "    .dataframe tbody tr th {\n",
       "        vertical-align: top;\n",
       "    }\n",
       "\n",
       "    .dataframe thead th {\n",
       "        text-align: right;\n",
       "    }\n",
       "</style>\n",
       "<table border=\"1\" class=\"dataframe\">\n",
       "  <thead>\n",
       "    <tr style=\"text-align: right;\">\n",
       "      <th></th>\n",
       "      <th>STD_ID</th>\n",
       "      <th>НАПРАВЛЕНИЕ</th>\n",
       "      <th>ГОД</th>\n",
       "      <th>КУРС</th>\n",
       "      <th>СЕМЕСТР</th>\n",
       "      <th>АТТЕСТАЦИЯ</th>\n",
       "      <th>ДИСЦИПЛИНА</th>\n",
       "    </tr>\n",
       "  </thead>\n",
       "  <tbody>\n",
       "    <tr>\n",
       "      <th>51081</th>\n",
       "      <td>175711</td>\n",
       "      <td>38.03.02 Менеджмент</td>\n",
       "      <td>2018-2019</td>\n",
       "      <td>2.0</td>\n",
       "      <td>4.0</td>\n",
       "      <td>Экзамен</td>\n",
       "      <td>Маркетинг</td>\n",
       "    </tr>\n",
       "    <tr>\n",
       "      <th>72921</th>\n",
       "      <td>100647</td>\n",
       "      <td>31.05.01 Лечебное дело</td>\n",
       "      <td>2015-2016</td>\n",
       "      <td>3.0</td>\n",
       "      <td>5.0</td>\n",
       "      <td>Экзамен</td>\n",
       "      <td>Пропедевтика внутренних болезней, лучевая диаг...</td>\n",
       "    </tr>\n",
       "    <tr>\n",
       "      <th>96438</th>\n",
       "      <td>199311</td>\n",
       "      <td>31.05.03 Стоматология</td>\n",
       "      <td>2019-2020</td>\n",
       "      <td>1.0</td>\n",
       "      <td>1.0</td>\n",
       "      <td>Экзамен</td>\n",
       "      <td>Химия</td>\n",
       "    </tr>\n",
       "    <tr>\n",
       "      <th>273044</th>\n",
       "      <td>162002</td>\n",
       "      <td>38.03.02 Менеджмент</td>\n",
       "      <td>2017-2018</td>\n",
       "      <td>2.0</td>\n",
       "      <td>3.0</td>\n",
       "      <td>Экзамен</td>\n",
       "      <td>Статистика</td>\n",
       "    </tr>\n",
       "    <tr>\n",
       "      <th>371309</th>\n",
       "      <td>108384</td>\n",
       "      <td>31.05.01 Лечебное дело</td>\n",
       "      <td>2018-2019</td>\n",
       "      <td>5.0</td>\n",
       "      <td>9.0</td>\n",
       "      <td>Экзамен</td>\n",
       "      <td>Педиатрия</td>\n",
       "    </tr>\n",
       "    <tr>\n",
       "      <th>...</th>\n",
       "      <td>...</td>\n",
       "      <td>...</td>\n",
       "      <td>...</td>\n",
       "      <td>...</td>\n",
       "      <td>...</td>\n",
       "      <td>...</td>\n",
       "      <td>...</td>\n",
       "    </tr>\n",
       "    <tr>\n",
       "      <th>224856</th>\n",
       "      <td>176141</td>\n",
       "      <td>40.03.01 Юриспруденция</td>\n",
       "      <td>2017-2018</td>\n",
       "      <td>1.0</td>\n",
       "      <td>2.0</td>\n",
       "      <td>Курсовая работа</td>\n",
       "      <td>Конституционное право</td>\n",
       "    </tr>\n",
       "    <tr>\n",
       "      <th>260998</th>\n",
       "      <td>182794</td>\n",
       "      <td>31.05.01 Лечебное дело</td>\n",
       "      <td>2018-2019</td>\n",
       "      <td>2.0</td>\n",
       "      <td>4.0</td>\n",
       "      <td>Экзамен</td>\n",
       "      <td>Нормальная физиология</td>\n",
       "    </tr>\n",
       "    <tr>\n",
       "      <th>57245</th>\n",
       "      <td>162391</td>\n",
       "      <td>31.05.01 Лечебное дело</td>\n",
       "      <td>2016-2017</td>\n",
       "      <td>1.0</td>\n",
       "      <td>2.0</td>\n",
       "      <td>Дифференцированный зачет</td>\n",
       "      <td>Иностранный язык</td>\n",
       "    </tr>\n",
       "    <tr>\n",
       "      <th>218529</th>\n",
       "      <td>202479</td>\n",
       "      <td>38.03.01 Экономика</td>\n",
       "      <td>2017-2018</td>\n",
       "      <td>1.0</td>\n",
       "      <td>1.0</td>\n",
       "      <td>Дифференцированный зачет</td>\n",
       "      <td>Информатика</td>\n",
       "    </tr>\n",
       "    <tr>\n",
       "      <th>233318</th>\n",
       "      <td>182325</td>\n",
       "      <td>08.03.01 Строительство</td>\n",
       "      <td>2018-2019</td>\n",
       "      <td>2.0</td>\n",
       "      <td>3.0</td>\n",
       "      <td>Курсовая работа</td>\n",
       "      <td>Технологические процессы в строительстве</td>\n",
       "    </tr>\n",
       "  </tbody>\n",
       "</table>\n",
       "<p>105058 rows × 7 columns</p>\n",
       "</div>"
      ],
      "text/plain": [
       "        STD_ID             НАПРАВЛЕНИЕ        ГОД  КУРС  СЕМЕСТР  \\\n",
       "51081   175711     38.03.02 Менеджмент  2018-2019   2.0      4.0   \n",
       "72921   100647  31.05.01 Лечебное дело  2015-2016   3.0      5.0   \n",
       "96438   199311   31.05.03 Стоматология  2019-2020   1.0      1.0   \n",
       "273044  162002     38.03.02 Менеджмент  2017-2018   2.0      3.0   \n",
       "371309  108384  31.05.01 Лечебное дело  2018-2019   5.0      9.0   \n",
       "...        ...                     ...        ...   ...      ...   \n",
       "224856  176141  40.03.01 Юриспруденция  2017-2018   1.0      2.0   \n",
       "260998  182794  31.05.01 Лечебное дело  2018-2019   2.0      4.0   \n",
       "57245   162391  31.05.01 Лечебное дело  2016-2017   1.0      2.0   \n",
       "218529  202479      38.03.01 Экономика  2017-2018   1.0      1.0   \n",
       "233318  182325  08.03.01 Строительство  2018-2019   2.0      3.0   \n",
       "\n",
       "                      АТТЕСТАЦИЯ  \\\n",
       "51081                    Экзамен   \n",
       "72921                    Экзамен   \n",
       "96438                    Экзамен   \n",
       "273044                   Экзамен   \n",
       "371309                   Экзамен   \n",
       "...                          ...   \n",
       "224856           Курсовая работа   \n",
       "260998                   Экзамен   \n",
       "57245   Дифференцированный зачет   \n",
       "218529  Дифференцированный зачет   \n",
       "233318           Курсовая работа   \n",
       "\n",
       "                                               ДИСЦИПЛИНА  \n",
       "51081                                           Маркетинг  \n",
       "72921   Пропедевтика внутренних болезней, лучевая диаг...  \n",
       "96438                                               Химия  \n",
       "273044                                         Статистика  \n",
       "371309                                          Педиатрия  \n",
       "...                                                   ...  \n",
       "224856                              Конституционное право  \n",
       "260998                              Нормальная физиология  \n",
       "57245                                    Иностранный язык  \n",
       "218529                                        Информатика  \n",
       "233318           Технологические процессы в строительстве  \n",
       "\n",
       "[105058 rows x 7 columns]"
      ]
     },
     "execution_count": 3,
     "metadata": {},
     "output_type": "execute_result"
    }
   ],
   "source": [
    "X_train_in"
   ]
  },
  {
   "cell_type": "code",
   "execution_count": 4,
   "metadata": {},
   "outputs": [],
   "source": [
    "X_train_in = X_train_in.reset_index().drop(columns=[\"index\"])\n",
    "X_train_in = pd.merge(X_train_in.reset_index(), info).sort_values(by=\"index\")\n",
    "\n",
    "X_val = X_val.reset_index().drop(columns=[\"index\"])\n",
    "X_val = pd.merge(X_val.reset_index(), info).sort_values(by=\"index\")\n",
    "\n",
    "X_train_in.index = pd.read_csv(\"X_train.csv\", index_col=0).index\n",
    "X_val.index = pd.read_csv(\"X_test.csv\", index_col=0).index\n",
    "X_val = X_val.drop(columns=[\"index\"])\n",
    "X_train_in = X_train_in.drop(columns=[\"index\"])"
   ]
  },
  {
   "cell_type": "code",
   "execution_count": 5,
   "metadata": {},
   "outputs": [],
   "source": [
    "X_train_in['НАПРАВЛЕНИЕ_clustered'] = X_train_in['НАПРАВЛЕНИЕ'].agg([lambda x: x[:2]])\n",
    "X_val['НАПРАВЛЕНИЕ_clustered'] = X_val['НАПРАВЛЕНИЕ'].agg([lambda x: x[:2]])"
   ]
  },
  {
   "cell_type": "markdown",
   "metadata": {},
   "source": [
    "# Все виды определенных колонок"
   ]
  },
  {
   "cell_type": "code",
   "execution_count": 6,
   "metadata": {},
   "outputs": [],
   "source": [
    "att_types = list(set(list(X_train_in[\"АТТЕСТАЦИЯ\"].values) + list(X_val[\"АТТЕСТАЦИЯ\"].values)))\n",
    "disc_types = list(set(list(X_train_in[\"ДИСЦИПЛИНА\"].values) + list(X_val[\"ДИСЦИПЛИНА\"].values)))\n",
    "napr_types = list(set(list(X_train_in[\"НАПРАВЛЕНИЕ\"].values) + list(X_val[\"НАПРАВЛЕНИЕ\"].values)))\n",
    "napr_c_types = list(set(list(X_train_in[\"НАПРАВЛЕНИЕ_clustered\"].values) + list(X_val[\"НАПРАВЛЕНИЕ_clustered\"].values)))\n",
    "school = list(set(list(X_train_in[\"Что именно закончил\"].values) + list(X_val[\"Что именно закончил\"].values)))"
   ]
  },
  {
   "cell_type": "markdown",
   "metadata": {},
   "source": [
    "# Преобразовываем длинные название учереждений с предыдущим образованием в определенный тип - лицей/школа/университет"
   ]
  },
  {
   "cell_type": "code",
   "execution_count": 7,
   "metadata": {},
   "outputs": [],
   "source": [
    "sch = [\"сош\", \"школа\", \"осш\", \"ош\", \"коррекционная\"]\n",
    "gym = ['гимназия']\n",
    "tech = [\"техникум\", \"лицей\", \"колледж\", \"училище\", \"пу\", \"пту\"]\n",
    "uni = [\"университет\", \"академия\"]"
   ]
  },
  {
   "cell_type": "code",
   "execution_count": 8,
   "metadata": {},
   "outputs": [],
   "source": [
    "schs = []\n",
    "gyms = []\n",
    "techs = []\n",
    "unis = []\n",
    "for i in school:    \n",
    "    for j in sch:\n",
    "        if j in str(i).lower():\n",
    "            schs.append(i)\n",
    "    \n",
    "    for j in gym:\n",
    "        if j in str(i).lower():\n",
    "            gyms.append(i)\n",
    "    \n",
    "    for j in tech:\n",
    "        if j in str(i).lower():\n",
    "            techs.append(i)    \n",
    "    for j in uni:\n",
    "        if j in str(i).lower():\n",
    "            unis.append(i)"
   ]
  },
  {
   "cell_type": "code",
   "execution_count": 9,
   "metadata": {},
   "outputs": [],
   "source": [
    "X_train_in[\"mark\"] = y_train_in[\"mark\"]"
   ]
  },
  {
   "cell_type": "code",
   "execution_count": 10,
   "metadata": {},
   "outputs": [],
   "source": [
    "def track(x):\n",
    "    d = [schs,gyms,techs,unis]\n",
    "    a = [\"Школа\", \"Гимназия\", \"СП\", \"Университет\"]\n",
    "    for i in range(len(d)):\n",
    "        if x in d[i]:\n",
    "            return a[i]\n",
    "    return \"Школа\""
   ]
  },
  {
   "cell_type": "code",
   "execution_count": 11,
   "metadata": {},
   "outputs": [],
   "source": [
    "X_train_in[\"Что именно закончил\"] = X_train_in[\"Что именно закончил\"].agg([track])\n",
    "X_val[\"Что именно закончил\"] = X_val[\"Что именно закончил\"].agg([track])"
   ]
  },
  {
   "cell_type": "markdown",
   "metadata": {},
   "source": [
    "# Создаем уникальные парные столбцы на основе существующих колонок"
   ]
  },
  {
   "cell_type": "code",
   "execution_count": 12,
   "metadata": {},
   "outputs": [],
   "source": [
    "X_train_in[\"АТДИ\"] = X_train_in[\"АТТЕСТАЦИЯ\"] + X_train_in[\"ДИСЦИПЛИНА\"]\n",
    "X_val[\"АТДИ\"] = X_val[\"АТТЕСТАЦИЯ\"] + X_val[\"ДИСЦИПЛИНА\"]\n",
    "\n",
    "X_train_in[\"КУНА\"] = X_train_in[\"КУРС\"].astype(\"str\") + X_train_in[\"НАПРАВЛЕНИЕ\"]\n",
    "X_val[\"КУНА\"] = X_val[\"КУРС\"].astype(\"str\") + X_val[\"НАПРАВЛЕНИЕ\"]\n",
    "\n",
    "X_train_in[\"КаНА\"] = X_train_in[\"Категория обучения\"].astype(\"str\") + X_train_in[\"НАПРАВЛЕНИЕ\"]\n",
    "X_val[\"КаНА\"] = X_val[\"Категория обучения\"].astype(\"str\") + X_val[\"НАПРАВЛЕНИЕ\"]\n",
    "\n",
    "X_train_in[\"СЕНА\"] = X_train_in[\"СЕМЕСТР\"].astype(\"str\") + X_train_in[\"НАПРАВЛЕНИЕ\"]\n",
    "X_val[\"СЕНА\"] = X_val[\"СЕМЕСТР\"].astype(\"str\") + X_val[\"НАПРАВЛЕНИЕ\"]\n",
    "\n",
    "X_train_in[\"ПоНА\"] = X_train_in[\"Пол\"].astype(\"str\") + X_train_in[\"НАПРАВЛЕНИЕ\"]\n",
    "X_val[\"ПоНА\"] = X_val[\"Пол\"].astype(\"str\") + X_val[\"НАПРАВЛЕНИЕ\"]\n",
    "\n",
    "X_train_in[\"ПоАТ\"] = X_train_in[\"Пол\"].astype(\"str\") + X_train_in[\"АТТЕСТАЦИЯ\"]\n",
    "X_val[\"ПоАТ\"] = X_val[\"Пол\"].astype(\"str\") + X_val[\"АТТЕСТАЦИЯ\"]\n",
    "\n",
    "X_train_in[\"ПоДИ\"] = X_train_in[\"Пол\"].astype(\"str\") + X_train_in[\"ДИСЦИПЛИНА\"]\n",
    "X_val[\"ПоДИ\"] = X_val[\"Пол\"].astype(\"str\") + X_val[\"ДИСЦИПЛИНА\"]\n",
    "\n",
    "X_train_in[\"ПоДИАТ\"] = X_train_in[\"Пол\"].astype(\"str\") + X_train_in[\"АТДИ\"]\n",
    "X_val[\"ПоДИАТ\"] = X_val[\"Пол\"].astype(\"str\") + X_val[\"АТДИ\"]"
   ]
  },
  {
   "cell_type": "markdown",
   "metadata": {},
   "source": [
    "# mean-энкодинг столбцов - средняя оценка по студентам удовлетворяющим условиям"
   ]
  },
  {
   "cell_type": "code",
   "execution_count": 13,
   "metadata": {},
   "outputs": [],
   "source": [
    "def add_feat_mean(cat):\n",
    "    mean_mark = X_train_in.groupby(cat).mean()[\"mark\"]\n",
    "    X_train_in.loc[:,f\"{cat}_mean\"] = X_train_in.loc[:,cat].map(mean_mark)\n",
    "    X_val.loc[:,f\"{cat}_mean\"] = X_val.loc[:,cat].map(mean_mark)\n",
    "    \n",
    "add_feat_mean(\"STD_ID\")\n",
    "add_feat_mean(\"ДИСЦИПЛИНА\")\n",
    "add_feat_mean(\"АТТЕСТАЦИЯ\")\n",
    "add_feat_mean(\"НАПРАВЛЕНИЕ\")\n",
    "add_feat_mean(\"НАПРАВЛЕНИЕ_clustered\")\n",
    "add_feat_mean(\"ГОД\")\n",
    "add_feat_mean(\"КУРС\")\n",
    "add_feat_mean(\"СЕМЕСТР\")\n",
    "add_feat_mean(\"Категория обучения\")\n",
    "add_feat_mean(\"Пол\")\n",
    "add_feat_mean(\"Что именно закончил\")\n",
    "add_feat_mean(\"АТДИ\")\n",
    "add_feat_mean(\"КУНА\")\n",
    "add_feat_mean(\"КаНА\")\n",
    "add_feat_mean(\"СЕНА\")\n",
    "add_feat_mean(\"ПоНА\")\n",
    "add_feat_mean(\"ПоАТ\")\n",
    "add_feat_mean(\"ПоДИ\")\n",
    "add_feat_mean(\"ПоДИАТ\")"
   ]
  },
  {
   "cell_type": "markdown",
   "metadata": {},
   "source": [
    "# Сохранение полученных фич"
   ]
  },
  {
   "cell_type": "code",
   "execution_count": 14,
   "metadata": {},
   "outputs": [],
   "source": [
    "X_train_in.to_csv(\"X_train_app.csv\")\n",
    "X_val.to_csv(\"X_val_app.csv\")"
   ]
  }
 ],
 "metadata": {
  "kernelspec": {
   "display_name": "Python 3",
   "language": "python",
   "name": "python3"
  },
  "language_info": {
   "codemirror_mode": {
    "name": "ipython",
    "version": 3
   },
   "file_extension": ".py",
   "mimetype": "text/x-python",
   "name": "python",
   "nbconvert_exporter": "python",
   "pygments_lexer": "ipython3",
   "version": "3.8.4"
  }
 },
 "nbformat": 4,
 "nbformat_minor": 2
}
